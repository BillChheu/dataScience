{
 "cells": [
  {
   "cell_type": "markdown",
   "metadata": {},
   "source": [
    "# Lab 3: Data Preprocessing"
   ]
  },
  {
   "cell_type": "markdown",
   "metadata": {},
   "source": [
    "In this assignment, we will learn how to explore the raw data and preprocess it. \n",
    "\n",
    "The dataset we are going to exlore is an insurance data. It provides different features of each user as follows:\n",
    "* age: age of the user\n",
    "* sex: gender of the user\n",
    "* bmi: body mass index, providing an understanding of body\n",
    "* children: number of children covered by health insurance / number of dependents\n",
    "* smoker: smoker or not\n",
    "* region: the user's residential area in the US, northeast, southeast, southwest, northwest.\n",
    "\n",
    "Additionally, the medical cost of each user is also provided: \n",
    "* charges: the medical cost \n",
    "\n",
    "Please follow Lecture 5_data_understanding and Lecture 6_data_preprocessing to complete following questions. "
   ]
  },
  {
   "cell_type": "markdown",
   "metadata": {},
   "source": [
    "### Q1. Load data with Pandas and output the basic information of this dataset, such as the features and their data types.  Which features are numerical features and which users are categorical features?\n"
   ]
  },
  {
   "cell_type": "code",
   "execution_count": 5,
   "metadata": {},
   "outputs": [
    {
     "name": "stdout",
     "output_type": "stream",
     "text": [
      "      age     sex     bmi  children smoker     region      charges\n",
      "0      19  female  27.900         0    yes  southwest  16884.92400\n",
      "1      18    male  33.770         1     no  southeast   1725.55230\n",
      "2      28    male  33.000         3     no  southeast   4449.46200\n",
      "3      33    male  22.705         0     no  northwest  21984.47061\n",
      "4      32    male  28.880         0     no  northwest   3866.85520\n",
      "...   ...     ...     ...       ...    ...        ...          ...\n",
      "1333   50    male  30.970         3     no  northwest  10600.54830\n",
      "1334   18  female  31.920         0     no  northeast   2205.98080\n",
      "1335   18  female  36.850         0     no  southeast   1629.83350\n",
      "1336   21  female  25.800         0     no  southwest   2007.94500\n",
      "1337   61  female  29.070         0    yes  northwest  29141.36030\n",
      "\n",
      "[1338 rows x 7 columns]\n"
     ]
    }
   ],
   "source": [
    "# your code\n",
    "import pandas as pd\n",
    "\n",
    "df = pd.read_csv('insurance.csv')\n",
    "print(df)\n",
    "\n",
    "# ages, bmi, children, and charges are numerical\n",
    "# sex, region, and smoker are categorical"
   ]
  },
  {
   "cell_type": "markdown",
   "metadata": {},
   "source": [
    "### Q2. Check whether there are missing values in this dataset."
   ]
  },
  {
   "cell_type": "code",
   "execution_count": 6,
   "metadata": {},
   "outputs": [
    {
     "data": {
      "text/plain": [
       "age         0\n",
       "sex         0\n",
       "bmi         0\n",
       "children    0\n",
       "smoker      0\n",
       "region      0\n",
       "charges     0\n",
       "dtype: int64"
      ]
     },
     "execution_count": 6,
     "metadata": {},
     "output_type": "execute_result"
    }
   ],
   "source": [
    "# your code\n",
    "df.isnull().sum()"
   ]
  },
  {
   "cell_type": "markdown",
   "metadata": {},
   "source": [
    "### Q3. Visualize all numerical features with histogram plot to see the distribution of each numerical feature. \n"
   ]
  },
  {
   "cell_type": "code",
   "execution_count": 11,
   "metadata": {},
   "outputs": [
    {
     "data": {
      "image/png": "[encoded data removed]",
      "text/plain": [
       "<Figure size 432x288 with 1 Axes>"
      ]
     },
     "metadata": {
      "needs_background": "light"
     },
     "output_type": "display_data"
    },
    {
     "data": {
      "image/png": "[encoded data removed]",
      "text/plain": [
       "<Figure size 432x288 with 1 Axes>"
      ]
     },
     "metadata": {
      "needs_background": "light"
     },
     "output_type": "display_data"
    },
    {
     "data": {
      "image/png": "[encoded data removed]",
      "text/plain": [
       "<Figure size 432x288 with 1 Axes>"
      ]
     },
     "metadata": {
      "needs_background": "light"
     },
     "output_type": "display_data"
    },
    {
     "data": {
      "image/png": "[encoded data removed]",
      "text/plain": [
       "<Figure size 432x288 with 1 Axes>"
      ]
     },
     "metadata": {
      "needs_background": "light"
     },
     "output_type": "display_data"
    }
   ],
   "source": [
    "# your code\n",
    "import matplotlib.pyplot as plt\n",
    "\n",
    "plt.hist(df['age'])\n",
    "plt.show()\n",
    "\n",
    "plt.hist(df['bmi'])\n",
    "plt.show()\n",
    "\n",
    "plt.hist(df['children'])\n",
    "plt.show()\n",
    "\n",
    "plt.hist(df['charges'])\n",
    "plt.show()\n"
   ]
  },
  {
   "cell_type": "markdown",
   "metadata": {},
   "source": [
    "### Q4. Use corr() function of Pandas to show the correlation between different numerical features"
   ]
  },
  {
   "cell_type": "code",
   "execution_count": 16,
   "metadata": {},
   "outputs": [
    {
     "data": {
      "text/html": [
       "<style  type=\"text/css\" >\n",
       "#T_4f708fc3_6a66_11eb_9587_00d8615a8ff6row0_col0,#T_4f708fc3_6a66_11eb_9587_00d8615a8ff6row1_col1,#T_4f708fc3_6a66_11eb_9587_00d8615a8ff6row2_col2,#T_4f708fc3_6a66_11eb_9587_00d8615a8ff6row3_col3{\n",
       "            background-color:  #023858;\n",
       "            color:  #f1f1f1;\n",
       "        }#T_4f708fc3_6a66_11eb_9587_00d8615a8ff6row0_col1{\n",
       "            background-color:  #f0eaf4;\n",
       "            color:  #000000;\n",
       "        }#T_4f708fc3_6a66_11eb_9587_00d8615a8ff6row0_col2{\n",
       "            background-color:  #fbf3f9;\n",
       "            color:  #000000;\n",
       "        }#T_4f708fc3_6a66_11eb_9587_00d8615a8ff6row0_col3{\n",
       "            background-color:  #d1d2e6;\n",
       "            color:  #000000;\n",
       "        }#T_4f708fc3_6a66_11eb_9587_00d8615a8ff6row1_col0{\n",
       "            background-color:  #f5eef6;\n",
       "            color:  #000000;\n",
       "        }#T_4f708fc3_6a66_11eb_9587_00d8615a8ff6row1_col2,#T_4f708fc3_6a66_11eb_9587_00d8615a8ff6row2_col0,#T_4f708fc3_6a66_11eb_9587_00d8615a8ff6row2_col1,#T_4f708fc3_6a66_11eb_9587_00d8615a8ff6row2_col3{\n",
       "            background-color:  #fff7fb;\n",
       "            color:  #000000;\n",
       "        }#T_4f708fc3_6a66_11eb_9587_00d8615a8ff6row1_col3{\n",
       "            background-color:  #e9e5f1;\n",
       "            color:  #000000;\n",
       "        }#T_4f708fc3_6a66_11eb_9587_00d8615a8ff6row3_col0{\n",
       "            background-color:  #cacee5;\n",
       "            color:  #000000;\n",
       "        }#T_4f708fc3_6a66_11eb_9587_00d8615a8ff6row3_col1{\n",
       "            background-color:  #dedcec;\n",
       "            color:  #000000;\n",
       "        }#T_4f708fc3_6a66_11eb_9587_00d8615a8ff6row3_col2{\n",
       "            background-color:  #f7f0f7;\n",
       "            color:  #000000;\n",
       "        }</style><table id=\"T_4f708fc3_6a66_11eb_9587_00d8615a8ff6\" ><thead>    <tr>        <th class=\"blank level0\" ></th>        <th class=\"col_heading level0 col0\" >age</th>        <th class=\"col_heading level0 col1\" >bmi</th>        <th class=\"col_heading level0 col2\" >children</th>        <th class=\"col_heading level0 col3\" >charges</th>    </tr></thead><tbody>\n",
       "                <tr>\n",
       "                        <th id=\"T_4f708fc3_6a66_11eb_9587_00d8615a8ff6level0_row0\" class=\"row_heading level0 row0\" >age</th>\n",
       "                        <td id=\"T_4f708fc3_6a66_11eb_9587_00d8615a8ff6row0_col0\" class=\"data row0 col0\" >1.000000</td>\n",
       "                        <td id=\"T_4f708fc3_6a66_11eb_9587_00d8615a8ff6row0_col1\" class=\"data row0 col1\" >0.109272</td>\n",
       "                        <td id=\"T_4f708fc3_6a66_11eb_9587_00d8615a8ff6row0_col2\" class=\"data row0 col2\" >0.042469</td>\n",
       "                        <td id=\"T_4f708fc3_6a66_11eb_9587_00d8615a8ff6row0_col3\" class=\"data row0 col3\" >0.299008</td>\n",
       "            </tr>\n",
       "            <tr>\n",
       "                        <th id=\"T_4f708fc3_6a66_11eb_9587_00d8615a8ff6level0_row1\" class=\"row_heading level0 row1\" >bmi</th>\n",
       "                        <td id=\"T_4f708fc3_6a66_11eb_9587_00d8615a8ff6row1_col0\" class=\"data row1 col0\" >0.109272</td>\n",
       "                        <td id=\"T_4f708fc3_6a66_11eb_9587_00d8615a8ff6row1_col1\" class=\"data row1 col1\" >1.000000</td>\n",
       "                        <td id=\"T_4f708fc3_6a66_11eb_9587_00d8615a8ff6row1_col2\" class=\"data row1 col2\" >0.012759</td>\n",
       "                        <td id=\"T_4f708fc3_6a66_11eb_9587_00d8615a8ff6row1_col3\" class=\"data row1 col3\" >0.198341</td>\n",
       "            </tr>\n",
       "            <tr>\n",
       "                        <th id=\"T_4f708fc3_6a66_11eb_9587_00d8615a8ff6level0_row2\" class=\"row_heading level0 row2\" >children</th>\n",
       "                        <td id=\"T_4f708fc3_6a66_11eb_9587_00d8615a8ff6row2_col0\" class=\"data row2 col0\" >0.042469</td>\n",
       "                        <td id=\"T_4f708fc3_6a66_11eb_9587_00d8615a8ff6row2_col1\" class=\"data row2 col1\" >0.012759</td>\n",
       "                        <td id=\"T_4f708fc3_6a66_11eb_9587_00d8615a8ff6row2_col2\" class=\"data row2 col2\" >1.000000</td>\n",
       "                        <td id=\"T_4f708fc3_6a66_11eb_9587_00d8615a8ff6row2_col3\" class=\"data row2 col3\" >0.067998</td>\n",
       "            </tr>\n",
       "            <tr>\n",
       "                        <th id=\"T_4f708fc3_6a66_11eb_9587_00d8615a8ff6level0_row3\" class=\"row_heading level0 row3\" >charges</th>\n",
       "                        <td id=\"T_4f708fc3_6a66_11eb_9587_00d8615a8ff6row3_col0\" class=\"data row3 col0\" >0.299008</td>\n",
       "                        <td id=\"T_4f708fc3_6a66_11eb_9587_00d8615a8ff6row3_col1\" class=\"data row3 col1\" >0.198341</td>\n",
       "                        <td id=\"T_4f708fc3_6a66_11eb_9587_00d8615a8ff6row3_col2\" class=\"data row3 col2\" >0.067998</td>\n",
       "                        <td id=\"T_4f708fc3_6a66_11eb_9587_00d8615a8ff6row3_col3\" class=\"data row3 col3\" >1.000000</td>\n",
       "            </tr>\n",
       "    </tbody></table>"
      ],
      "text/plain": [
       "<pandas.io.formats.style.Styler at 0x20551420eb0>"
      ]
     },
     "execution_count": 16,
     "metadata": {},
     "output_type": "execute_result"
    }
   ],
   "source": [
    "# your code\n",
    "hcorr = df.corr()\n",
    "hcorr.style.background_gradient()"
   ]
  },
  {
   "cell_type": "markdown",
   "metadata": {},
   "source": [
    "### Q5. For all categorical features, use bar plot to visualize the number of users within each category."
   ]
  },
  {
   "cell_type": "code",
   "execution_count": 37,
   "metadata": {},
   "outputs": [
    {
     "data": {
      "image/png": "[encoded data removed]",
      "text/plain": [
       "<Figure size 432x288 with 1 Axes>"
      ]
     },
     "metadata": {
      "needs_background": "light"
     },
     "output_type": "display_data"
    },
    {
     "data": {
      "image/png": "[encoded data removed]",
      "text/plain": [
       "<Figure size 432x288 with 1 Axes>"
      ]
     },
     "metadata": {
      "needs_background": "light"
     },
     "output_type": "display_data"
    },
    {
     "data": {
      "image/png": "[encoded data removed]",
      "text/plain": [
       "<Figure size 432x288 with 1 Axes>"
      ]
     },
     "metadata": {
      "needs_background": "light"
     },
     "output_type": "display_data"
    }
   ],
   "source": [
    "# your code\n",
    "df['sex'].value_counts().plot(kind = \"bar\")\n",
    "plt.show()\n",
    "df['region'].value_counts().plot(kind = \"bar\")\n",
    "plt.show()\n",
    "df['smoker'].value_counts().plot(kind = \"bar\")\n",
    "plt.show()"
   ]
  },
  {
   "cell_type": "markdown",
   "metadata": {},
   "source": [
    "### Q6. Convert all categorical features into numerical features with Label Encoding or One-Hot Encoding"
   ]
  },
  {
   "cell_type": "code",
   "execution_count": 25,
   "metadata": {},
   "outputs": [],
   "source": [
    "# your code\n",
    "from sklearn.preprocessing import LabelEncoder\n"
   ]
  },
  {
   "cell_type": "markdown",
   "metadata": {},
   "source": [
    "### Q7. Normalize all numerical features"
   ]
  },
  {
   "cell_type": "code",
   "execution_count": 26,
   "metadata": {},
   "outputs": [],
   "source": [
    "# your code"
   ]
  },
  {
   "cell_type": "markdown",
   "metadata": {},
   "source": [
    "### Q8. Save your preprocessed data into a csv file. Submit your code and the preprocessed data."
   ]
  },
  {
   "cell_type": "code",
   "execution_count": null,
   "metadata": {},
   "outputs": [],
   "source": []
  }
 ],
 "metadata": {
  "kernelspec": {
   "display_name": "Python 3",
   "language": "python",
   "name": "python3"
  },
  "language_info": {
   "codemirror_mode": {
    "name": "ipython",
    "version": 3
   },
   "file_extension": ".py",
   "mimetype": "text/x-python",
   "name": "python",
   "nbconvert_exporter": "python",
   "pygments_lexer": "ipython3",
   "version": "3.8.5"
  }
 },
 "nbformat": 4,
 "nbformat_minor": 2
}
